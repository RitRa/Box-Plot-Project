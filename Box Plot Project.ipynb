{
 "cells": [
  {
   "cell_type": "markdown",
   "metadata": {},
   "source": [
    "## Box Plot\n",
    "\n",
    "The box plot is a compact distribution summary. It takes up less space than a histogram and contains less information but it is great for comparing groups."
   ]
  },
  {
   "cell_type": "markdown",
   "metadata": {
    "collapsed": true
   },
   "source": [
    "### History of the box plot\n",
    "Box plots were invented by John Tukey in 1970, but it wasn't until his publication in 1977, \"Exploratory Data Analysis\", that they became widely known. \n",
    "\n",
    "![boxplot_jtukey](boxplot_jtukey.png)"
   ]
  },
  {
   "cell_type": "markdown",
   "metadata": {},
   "source": [
    "## What is it's use?"
   ]
  },
  {
   "cell_type": "markdown",
   "metadata": {},
   "source": [
    "Box plots are good for comparison because the distribution is immediately clear. \n",
    "\n",
    "It is used in statistics analysis....\n",
    "\n",
    "Box plots are made up of:\n",
    "\n",
    "- Median\n",
    "- upper quartile\n",
    "- lower quartile\n",
    "- outliers"
   ]
  },
  {
   "cell_type": "code",
   "execution_count": 9,
   "metadata": {},
   "outputs": [
    {
     "data": {
      "text/plain": [
       "<matplotlib.axes._subplots.AxesSubplot at 0x10fbcbd68>"
      ]
     },
     "execution_count": 9,
     "metadata": {},
     "output_type": "execute_result"
    },
    {
     "data": {
      "image/png": "[encoded data removed]",
      "text/plain": [
       "<matplotlib.figure.Figure at 0x10fbf9748>"
      ]
     },
     "metadata": {},
     "output_type": "display_data"
    }
   ],
   "source": [
    "import seaborn as sns\n",
    "import matplotlib.pyplot as plt\n",
    "\n",
    "%matplotlib inline\n",
    "\n",
    "data = [51, 17, 25, 39, 7, 49, 62, 41, 20, 6, 43, 13, 100]\n",
    "\n",
    "ax = sns.boxplot(x=data)\n",
    "ax"
   ]
  },
  {
   "cell_type": "markdown",
   "metadata": {},
   "source": [
    "### Demonstrate the use of the box plot using data of your choosing"
   ]
  },
  {
   "cell_type": "markdown",
   "metadata": {},
   "source": [
    "# References\n",
    "\n",
    "https://en.wikipedia.org/wiki/Box_plot\n",
    "    \n",
    "http://theta.edu.pl/wp-content/uploads/2012/10/exploratorydataanalysis_tukey.pdf\n",
    "\n",
    "http://vita.had.co.nz/papers/boxplots.pdf\n",
    "\n",
    "https://www150.statcan.gc.ca/n1/edu/power-pouvoir/ch12/5214889-eng.htm"
   ]
  },
  {
   "cell_type": "code",
   "execution_count": null,
   "metadata": {
    "collapsed": true
   },
   "outputs": [],
   "source": []
  }
 ],
 "metadata": {
  "kernelspec": {
   "display_name": "Python 3",
   "language": "python",
   "name": "python3"
  },
  "language_info": {
   "codemirror_mode": {
    "name": "ipython",
    "version": 3
   },
   "file_extension": ".py",
   "mimetype": "text/x-python",
   "name": "python",
   "nbconvert_exporter": "python",
   "pygments_lexer": "ipython3",
   "version": "3.6.3"
  }
 },
 "nbformat": 4,
 "nbformat_minor": 2
}
